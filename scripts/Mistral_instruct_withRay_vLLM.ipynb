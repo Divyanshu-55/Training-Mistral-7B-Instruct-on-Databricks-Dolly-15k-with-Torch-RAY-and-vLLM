{
  "cells": [
    {
      "cell_type": "markdown",
      "source": [
        "# Training Mistal-7B Instruct model on QA public dataset"
      ],
      "metadata": {
        "id": "gY4VTXDMror6"
      },
      "id": "gY4VTXDMror6"
    },
    {
      "cell_type": "code",
      "execution_count": null,
      "id": "88062560-d930-45a1-91c4-36389aeea47c",
      "metadata": {
        "id": "88062560-d930-45a1-91c4-36389aeea47c"
      },
      "outputs": [],
      "source": [
        "model_name = \"mistralai/Mistral-7B-Instruct-v0.1\"\n",
        "use_gpu = True\n",
        "num_workers = 1\n",
        "cpus_per_worker = 2"
      ]
    },
    {
      "cell_type": "code",
      "execution_count": null,
      "id": "ceece6e3-b992-49a5-b090-359b847742c3",
      "metadata": {
        "colab": {
          "referenced_widgets": [
            "a88dc906b86f41068fb1e27b90b1229c"
          ]
        },
        "id": "ceece6e3-b992-49a5-b090-359b847742c3",
        "outputId": "c4c1445d-0e8b-4f1d-e593-7d90945f1f40"
      },
      "outputs": [
        {
          "name": "stderr",
          "output_type": "stream",
          "text": [
            "2024-01-17 19:23:33,701\tWARNING utils.py:575 -- Detecting docker specified CPUs. In previous versions of Ray, CPU detection in containers was incorrect. Please ensure that Ray has enough CPUs allocated. As a temporary workaround to revert to the prior behavior, set `RAY_USE_MULTIPROCESSING_CPU_COUNT=1` as an env var before starting Ray. Set the env var: `RAY_DISABLE_DOCKER_CPU_WARNING=1` to mute this warning.\n",
            "2024-01-17 19:23:33,704\tWARNING utils.py:587 -- Ray currently does not support initializing Ray with fractional cpus. Your num_cpus will be truncated from 27.2 to 27.\n",
            "2024-01-17 19:23:33,945\tINFO worker.py:1724 -- Started a local Ray instance.\n"
          ]
        },
        {
          "data": {
            "application/vnd.jupyter.widget-view+json": {
              "model_id": "a88dc906b86f41068fb1e27b90b1229c",
              "version_major": 2,
              "version_minor": 0
            },
            "text/html": [
              "<div class=\"lm-Widget p-Widget lm-Panel p-Panel jp-Cell-outputWrapper\">\n",
              "    <div style=\"margin-left: 50px;display: flex;flex-direction: row;align-items: center\">\n",
              "        <div class=\"jp-RenderedHTMLCommon\" style=\"display: flex; flex-direction: row;\">\n",
              "  <svg viewBox=\"0 0 567 224\" fill=\"none\" xmlns=\"http://www.w3.org/2000/svg\" style=\"height: 3em;\">\n",
              "    <g clip-path=\"url(#clip0_4338_178347)\">\n",
              "        <path d=\"M341.29 165.561H355.29L330.13 129.051C345.63 123.991 354.21 112.051 354.21 94.2307C354.21 71.3707 338.72 58.1807 311.88 58.1807H271V165.561H283.27V131.661H311.8C314.25 131.661 316.71 131.501 319.01 131.351L341.25 165.561H341.29ZM283.29 119.851V70.0007H311.82C331.3 70.0007 342.34 78.2907 342.34 94.5507C342.34 111.271 331.34 119.861 311.82 119.861L283.29 119.851ZM451.4 138.411L463.4 165.561H476.74L428.74 58.1807H416L367.83 165.561H380.83L392.83 138.411H451.4ZM446.19 126.601H398L422 72.1407L446.24 126.601H446.19ZM526.11 128.741L566.91 58.1807H554.35L519.99 114.181L485.17 58.1807H472.44L514.01 129.181V165.541H526.13V128.741H526.11Z\" fill=\"var(--jp-ui-font-color0)\"/>\n",
              "        <path d=\"M82.35 104.44C84.0187 97.8827 87.8248 92.0678 93.1671 87.9146C98.5094 83.7614 105.083 81.5067 111.85 81.5067C118.617 81.5067 125.191 83.7614 130.533 87.9146C135.875 92.0678 139.681 97.8827 141.35 104.44H163.75C164.476 101.562 165.622 98.8057 167.15 96.2605L127.45 56.5605C121.071 60.3522 113.526 61.6823 106.235 60.3005C98.9443 58.9187 92.4094 54.9203 87.8602 49.0574C83.3109 43.1946 81.0609 35.8714 81.5332 28.4656C82.0056 21.0599 85.1679 14.0819 90.4252 8.8446C95.6824 3.60726 102.672 0.471508 110.08 0.0272655C117.487 -0.416977 124.802 1.86091 130.647 6.4324C136.493 11.0039 140.467 17.5539 141.821 24.8501C143.175 32.1463 141.816 39.6859 138 46.0505L177.69 85.7505C182.31 82.9877 187.58 81.4995 192.962 81.4375C198.345 81.3755 203.648 82.742 208.33 85.3976C213.012 88.0532 216.907 91.9029 219.616 96.5544C222.326 101.206 223.753 106.492 223.753 111.875C223.753 117.258 222.326 122.545 219.616 127.197C216.907 131.848 213.012 135.698 208.33 138.353C203.648 141.009 198.345 142.375 192.962 142.313C187.58 142.251 182.31 140.763 177.69 138L138 177.7C141.808 184.071 143.155 191.614 141.79 198.91C140.424 206.205 136.44 212.75 130.585 217.313C124.731 221.875 117.412 224.141 110.004 223.683C102.596 223.226 95.6103 220.077 90.3621 214.828C85.1139 209.58 81.9647 202.595 81.5072 195.187C81.0497 187.779 83.3154 180.459 87.878 174.605C92.4405 168.751 98.9853 164.766 106.281 163.401C113.576 162.035 121.119 163.383 127.49 167.19L167.19 127.49C165.664 124.941 164.518 122.182 163.79 119.3H141.39C139.721 125.858 135.915 131.673 130.573 135.826C125.231 139.98 118.657 142.234 111.89 142.234C105.123 142.234 98.5494 139.98 93.2071 135.826C87.8648 131.673 84.0587 125.858 82.39 119.3H60C58.1878 126.495 53.8086 132.78 47.6863 136.971C41.5641 141.163 34.1211 142.972 26.7579 142.059C19.3947 141.146 12.6191 137.574 7.70605 132.014C2.79302 126.454 0.0813599 119.29 0.0813599 111.87C0.0813599 104.451 2.79302 97.2871 7.70605 91.7272C12.6191 86.1673 19.3947 82.5947 26.7579 81.6817C34.1211 80.7686 41.5641 82.5781 47.6863 86.7696C53.8086 90.9611 58.1878 97.2456 60 104.44H82.35ZM100.86 204.32C103.407 206.868 106.759 208.453 110.345 208.806C113.93 209.159 117.527 208.258 120.522 206.256C123.517 204.254 125.725 201.276 126.771 197.828C127.816 194.38 127.633 190.677 126.253 187.349C124.874 184.021 122.383 181.274 119.205 179.577C116.027 177.88 112.359 177.337 108.826 178.042C105.293 178.746 102.113 180.654 99.8291 183.44C97.5451 186.226 96.2979 189.718 96.3 193.32C96.2985 195.364 96.7006 197.388 97.4831 199.275C98.2656 201.163 99.4132 202.877 100.86 204.32ZM204.32 122.88C206.868 120.333 208.453 116.981 208.806 113.396C209.159 109.811 208.258 106.214 206.256 103.219C204.254 100.223 201.275 98.0151 197.827 96.97C194.38 95.9249 190.676 96.1077 187.348 97.4873C184.02 98.8669 181.274 101.358 179.577 104.536C177.879 107.714 177.337 111.382 178.041 114.915C178.746 118.448 180.653 121.627 183.439 123.911C186.226 126.195 189.717 127.443 193.32 127.44C195.364 127.443 197.388 127.042 199.275 126.259C201.163 125.476 202.878 124.328 204.32 122.88ZM122.88 19.4205C120.333 16.8729 116.981 15.2876 113.395 14.9347C109.81 14.5817 106.213 15.483 103.218 17.4849C100.223 19.4868 98.0146 22.4654 96.9696 25.9131C95.9245 29.3608 96.1073 33.0642 97.4869 36.3922C98.8665 39.7202 101.358 42.4668 104.535 44.1639C107.713 45.861 111.381 46.4036 114.914 45.6992C118.447 44.9949 121.627 43.0871 123.911 40.301C126.195 37.515 127.442 34.0231 127.44 30.4205C127.44 28.3772 127.038 26.3539 126.255 24.4664C125.473 22.5788 124.326 20.8642 122.88 19.4205ZM19.42 100.86C16.8725 103.408 15.2872 106.76 14.9342 110.345C14.5813 113.93 15.4826 117.527 17.4844 120.522C19.4863 123.518 22.4649 125.726 25.9127 126.771C29.3604 127.816 33.0638 127.633 36.3918 126.254C39.7198 124.874 42.4664 122.383 44.1635 119.205C45.8606 116.027 46.4032 112.359 45.6988 108.826C44.9944 105.293 43.0866 102.114 40.3006 99.8296C37.5145 97.5455 34.0227 96.2983 30.42 96.3005C26.2938 96.3018 22.337 97.9421 19.42 100.86ZM100.86 100.86C98.3125 103.408 96.7272 106.76 96.3742 110.345C96.0213 113.93 96.9226 117.527 98.9244 120.522C100.926 123.518 103.905 125.726 107.353 126.771C110.8 127.816 114.504 127.633 117.832 126.254C121.16 124.874 123.906 122.383 125.604 119.205C127.301 116.027 127.843 112.359 127.139 108.826C126.434 105.293 124.527 102.114 121.741 99.8296C118.955 97.5455 115.463 96.2983 111.86 96.3005C109.817 96.299 107.793 96.701 105.905 97.4835C104.018 98.2661 102.303 99.4136 100.86 100.86Z\" fill=\"#00AEEF\"/>\n",
              "    </g>\n",
              "    <defs>\n",
              "        <clipPath id=\"clip0_4338_178347\">\n",
              "            <rect width=\"566.93\" height=\"223.75\" fill=\"white\"/>\n",
              "        </clipPath>\n",
              "    </defs>\n",
              "  </svg>\n",
              "</div>\n",
              "\n",
              "        <table class=\"jp-RenderedHTMLCommon\" style=\"border-collapse: collapse;color: var(--jp-ui-font-color1);font-size: var(--jp-ui-font-size1);\">\n",
              "    <tr>\n",
              "        <td style=\"text-align: left\"><b>Python version:</b></td>\n",
              "        <td style=\"text-align: left\"><b>3.10.12</b></td>\n",
              "    </tr>\n",
              "    <tr>\n",
              "        <td style=\"text-align: left\"><b>Ray version:</b></td>\n",
              "        <td style=\"text-align: left\"><b>2.9.0</b></td>\n",
              "    </tr>\n",
              "    \n",
              "</table>\n",
              "\n",
              "    </div>\n",
              "</div>\n"
            ],
            "text/plain": [
              "RayContext(dashboard_url='', python_version='3.10.12', ray_version='2.9.0', ray_commit='9be5a16e3ccad0710bba08d0f75e9ff774ae6880', protocol_version=None)"
            ]
          },
          "execution_count": 4,
          "metadata": {},
          "output_type": "execute_result"
        }
      ],
      "source": [
        "import ray\n",
        "\n",
        "ray.init(\n",
        "    runtime_env={\n",
        "        \"pip\": [\n",
        "            \"datasets\",\n",
        "            \"evaluate\",\n",
        "            # Latest combination of accelerate==0.19.0 and transformers==4.29.0\n",
        "            # seems to have issues with DeepSpeed process group initialization,\n",
        "            # and will result in a batch_size validation problem.\n",
        "            # TODO(jungong) : get rid of the pins once the issue is fixed.\n",
        "            \"accelerate==0.16.0\",\n",
        "            \"transformers==4.26.0\",\n",
        "            \"torch>=1.12.0\",\n",
        "            \"deepspeed==0.12.3\",\n",
        "        ],\n",
        "    },\n",
        ")"
      ]
    },
    {
      "cell_type": "code",
      "execution_count": null,
      "id": "1ff3b275-aa3c-4ebf-bd04-10947b792e78",
      "metadata": {
        "id": "1ff3b275-aa3c-4ebf-bd04-10947b792e78"
      },
      "outputs": [],
      "source": [
        "ray.shutdown()"
      ]
    },
    {
      "cell_type": "markdown",
      "id": "449d9aef-0067-41d9-88c9-da6dac5e0963",
      "metadata": {
        "id": "449d9aef-0067-41d9-88c9-da6dac5e0963"
      },
      "source": [
        "### Loading Dataset"
      ]
    },
    {
      "cell_type": "code",
      "execution_count": null,
      "id": "3aadc5e7-bb86-49ba-9fee-f72537904f38",
      "metadata": {
        "id": "3aadc5e7-bb86-49ba-9fee-f72537904f38"
      },
      "outputs": [],
      "source": [
        "# from datasets import load_dataset\n",
        "\n",
        "# print(\"Loading tiny_shakespeare dataset\")\n",
        "# current_dataset = load_dataset(\"tiny_shakespeare\")\n",
        "# current_dataset"
      ]
    },
    {
      "cell_type": "markdown",
      "id": "dc875b53-784a-4fef-a203-5266c8623a1c",
      "metadata": {
        "id": "dc875b53-784a-4fef-a203-5266c8623a1c"
      },
      "source": [
        "## Finetuning Mistral 7B Instruct Model"
      ]
    },
    {
      "cell_type": "code",
      "execution_count": null,
      "id": "1d67ab2b-35ec-4df2-a98e-a43319172287",
      "metadata": {
        "id": "1d67ab2b-35ec-4df2-a98e-a43319172287",
        "outputId": "f3cdadbb-1b19-4c01-b78e-63c7907b5595"
      },
      "outputs": [
        {
          "name": "stdout",
          "output_type": "stream",
          "text": [
            "Collecting git+https://github.com/huggingface/transformers\n",
            "  Cloning https://github.com/huggingface/transformers to /tmp/pip-req-build-8ap6ab64\n",
            "  Running command git clone --filter=blob:none --quiet https://github.com/huggingface/transformers /tmp/pip-req-build-8ap6ab64\n",
            "  Resolved https://github.com/huggingface/transformers to commit f4f57f9dfa68948a383c352a900d588f63f6290a\n",
            "  Installing build dependencies ... \u001b[?25ldone\n",
            "\u001b[?25h  Getting requirements to build wheel ... \u001b[?25ldone\n",
            "\u001b[?25h  Preparing metadata (pyproject.toml) ... \u001b[?25ldone\n",
            "\u001b[?25hRequirement already satisfied: trl in /usr/local/lib/python3.10/dist-packages (0.7.10.dev0)\n",
            "Requirement already satisfied: accelerate in /usr/local/lib/python3.10/dist-packages (0.21.0)\n",
            "Requirement already satisfied: torch in /usr/local/lib/python3.10/dist-packages (2.1.2)\n",
            "Requirement already satisfied: bitsandbytes in /usr/local/lib/python3.10/dist-packages (0.40.2)\n",
            "Requirement already satisfied: peft in /usr/local/lib/python3.10/dist-packages (0.4.0)\n",
            "Requirement already satisfied: datasets in /usr/local/lib/python3.10/dist-packages (2.16.0)\n",
            "Requirement already satisfied: filelock in /usr/local/lib/python3.10/dist-packages (from transformers==4.37.0.dev0) (3.13.1)\n",
            "Requirement already satisfied: huggingface-hub<1.0,>=0.19.3 in /usr/local/lib/python3.10/dist-packages (from transformers==4.37.0.dev0) (0.20.1)\n",
            "Requirement already satisfied: numpy>=1.17 in /usr/local/lib/python3.10/dist-packages (from transformers==4.37.0.dev0) (1.24.1)\n",
            "Requirement already satisfied: packaging>=20.0 in /usr/local/lib/python3.10/dist-packages (from transformers==4.37.0.dev0) (23.2)\n",
            "Requirement already satisfied: pyyaml>=5.1 in /usr/local/lib/python3.10/dist-packages (from transformers==4.37.0.dev0) (6.0.1)\n",
            "Requirement already satisfied: regex!=2019.12.17 in /usr/local/lib/python3.10/dist-packages (from transformers==4.37.0.dev0) (2023.12.25)\n",
            "Requirement already satisfied: requests in /usr/local/lib/python3.10/dist-packages (from transformers==4.37.0.dev0) (2.31.0)\n",
            "Collecting tokenizers<0.19,>=0.14 (from transformers==4.37.0.dev0)\n",
            "  Using cached tokenizers-0.15.0-cp310-cp310-manylinux_2_17_x86_64.manylinux2014_x86_64.whl.metadata (6.7 kB)\n",
            "Requirement already satisfied: safetensors>=0.3.1 in /usr/local/lib/python3.10/dist-packages (from transformers==4.37.0.dev0) (0.4.1)\n",
            "Requirement already satisfied: tqdm>=4.27 in /usr/local/lib/python3.10/dist-packages (from transformers==4.37.0.dev0) (4.66.1)\n",
            "Requirement already satisfied: tyro>=0.5.11 in /usr/local/lib/python3.10/dist-packages (from trl) (0.6.4)\n",
            "Requirement already satisfied: psutil in /usr/local/lib/python3.10/dist-packages (from accelerate) (5.9.6)\n",
            "Requirement already satisfied: typing-extensions in /usr/local/lib/python3.10/dist-packages (from torch) (4.9.0)\n",
            "Requirement already satisfied: sympy in /usr/local/lib/python3.10/dist-packages (from torch) (1.12)\n",
            "Requirement already satisfied: networkx in /usr/local/lib/python3.10/dist-packages (from torch) (3.0)\n",
            "Requirement already satisfied: jinja2 in /usr/local/lib/python3.10/dist-packages (from torch) (3.1.2)\n",
            "Requirement already satisfied: fsspec in /usr/local/lib/python3.10/dist-packages (from torch) (2023.10.0)\n",
            "Requirement already satisfied: nvidia-cuda-nvrtc-cu12==12.1.105 in /usr/local/lib/python3.10/dist-packages (from torch) (12.1.105)\n",
            "Requirement already satisfied: nvidia-cuda-runtime-cu12==12.1.105 in /usr/local/lib/python3.10/dist-packages (from torch) (12.1.105)\n",
            "Requirement already satisfied: nvidia-cuda-cupti-cu12==12.1.105 in /usr/local/lib/python3.10/dist-packages (from torch) (12.1.105)\n",
            "Requirement already satisfied: nvidia-cudnn-cu12==8.9.2.26 in /usr/local/lib/python3.10/dist-packages (from torch) (8.9.2.26)\n",
            "Requirement already satisfied: nvidia-cublas-cu12==12.1.3.1 in /usr/local/lib/python3.10/dist-packages (from torch) (12.1.3.1)\n",
            "Requirement already satisfied: nvidia-cufft-cu12==11.0.2.54 in /usr/local/lib/python3.10/dist-packages (from torch) (11.0.2.54)\n",
            "Requirement already satisfied: nvidia-curand-cu12==10.3.2.106 in /usr/local/lib/python3.10/dist-packages (from torch) (10.3.2.106)\n",
            "Requirement already satisfied: nvidia-cusolver-cu12==11.4.5.107 in /usr/local/lib/python3.10/dist-packages (from torch) (11.4.5.107)\n",
            "Requirement already satisfied: nvidia-cusparse-cu12==12.1.0.106 in /usr/local/lib/python3.10/dist-packages (from torch) (12.1.0.106)\n",
            "Requirement already satisfied: nvidia-nccl-cu12==2.18.1 in /usr/local/lib/python3.10/dist-packages (from torch) (2.18.1)\n",
            "Requirement already satisfied: nvidia-nvtx-cu12==12.1.105 in /usr/local/lib/python3.10/dist-packages (from torch) (12.1.105)\n",
            "Requirement already satisfied: triton==2.1.0 in /usr/local/lib/python3.10/dist-packages (from torch) (2.1.0)\n",
            "Requirement already satisfied: nvidia-nvjitlink-cu12 in /usr/local/lib/python3.10/dist-packages (from nvidia-cusolver-cu12==11.4.5.107->torch) (12.2.140)\n",
            "Requirement already satisfied: pyarrow>=8.0.0 in /usr/local/lib/python3.10/dist-packages (from datasets) (14.0.2)\n",
            "Requirement already satisfied: pyarrow-hotfix in /usr/local/lib/python3.10/dist-packages (from datasets) (0.6)\n",
            "Requirement already satisfied: dill<0.3.8,>=0.3.0 in /usr/local/lib/python3.10/dist-packages (from datasets) (0.3.7)\n",
            "Requirement already satisfied: pandas in /usr/local/lib/python3.10/dist-packages (from datasets) (1.2.5)\n",
            "Requirement already satisfied: xxhash in /usr/local/lib/python3.10/dist-packages (from datasets) (3.4.1)\n",
            "Requirement already satisfied: multiprocess in /usr/local/lib/python3.10/dist-packages (from datasets) (0.70.15)\n",
            "Requirement already satisfied: aiohttp in /usr/local/lib/python3.10/dist-packages (from datasets) (3.9.1)\n",
            "Requirement already satisfied: attrs>=17.3.0 in /usr/local/lib/python3.10/dist-packages (from aiohttp->datasets) (23.1.0)\n",
            "Requirement already satisfied: multidict<7.0,>=4.5 in /usr/local/lib/python3.10/dist-packages (from aiohttp->datasets) (6.0.4)\n",
            "Requirement already satisfied: yarl<2.0,>=1.0 in /usr/local/lib/python3.10/dist-packages (from aiohttp->datasets) (1.9.4)\n",
            "Requirement already satisfied: frozenlist>=1.1.1 in /usr/local/lib/python3.10/dist-packages (from aiohttp->datasets) (1.4.1)\n",
            "Requirement already satisfied: aiosignal>=1.1.2 in /usr/local/lib/python3.10/dist-packages (from aiohttp->datasets) (1.3.1)\n",
            "Requirement already satisfied: async-timeout<5.0,>=4.0 in /usr/local/lib/python3.10/dist-packages (from aiohttp->datasets) (4.0.3)\n",
            "Requirement already satisfied: charset-normalizer<4,>=2 in /usr/local/lib/python3.10/dist-packages (from requests->transformers==4.37.0.dev0) (2.1.1)\n",
            "Requirement already satisfied: idna<4,>=2.5 in /usr/local/lib/python3.10/dist-packages (from requests->transformers==4.37.0.dev0) (3.4)\n",
            "Requirement already satisfied: urllib3<3,>=1.21.1 in /usr/local/lib/python3.10/dist-packages (from requests->transformers==4.37.0.dev0) (1.26.13)\n",
            "Requirement already satisfied: certifi>=2017.4.17 in /usr/local/lib/python3.10/dist-packages (from requests->transformers==4.37.0.dev0) (2022.12.7)\n",
            "Requirement already satisfied: docstring-parser>=0.14.1 in /usr/local/lib/python3.10/dist-packages (from tyro>=0.5.11->trl) (0.15)\n",
            "Requirement already satisfied: rich>=11.1.0 in /usr/local/lib/python3.10/dist-packages (from tyro>=0.5.11->trl) (11.2.0)\n",
            "Requirement already satisfied: shtab>=1.5.6 in /usr/local/lib/python3.10/dist-packages (from tyro>=0.5.11->trl) (1.6.5)\n",
            "Requirement already satisfied: MarkupSafe>=2.0 in /usr/local/lib/python3.10/dist-packages (from jinja2->torch) (2.1.2)\n",
            "Requirement already satisfied: python-dateutil>=2.7.3 in /usr/local/lib/python3.10/dist-packages (from pandas->datasets) (2.8.2)\n",
            "Requirement already satisfied: pytz>=2017.3 in /usr/local/lib/python3.10/dist-packages (from pandas->datasets) (2023.3.post1)\n",
            "Requirement already satisfied: mpmath>=0.19 in /usr/local/lib/python3.10/dist-packages (from sympy->torch) (1.3.0)\n",
            "Requirement already satisfied: six>=1.5 in /usr/lib/python3/dist-packages (from python-dateutil>=2.7.3->pandas->datasets) (1.16.0)\n",
            "Requirement already satisfied: colorama<0.5.0,>=0.4.0 in /usr/local/lib/python3.10/dist-packages (from rich>=11.1.0->tyro>=0.5.11->trl) (0.4.6)\n",
            "Requirement already satisfied: commonmark<0.10.0,>=0.9.0 in /usr/local/lib/python3.10/dist-packages (from rich>=11.1.0->tyro>=0.5.11->trl) (0.9.1)\n",
            "Requirement already satisfied: pygments<3.0.0,>=2.6.0 in /usr/local/lib/python3.10/dist-packages (from rich>=11.1.0->tyro>=0.5.11->trl) (2.16.1)\n",
            "Using cached tokenizers-0.15.0-cp310-cp310-manylinux_2_17_x86_64.manylinux2014_x86_64.whl (3.8 MB)\n",
            "Building wheels for collected packages: transformers\n",
            "  Building wheel for transformers (pyproject.toml) ... \u001b[?25ldone\n",
            "\u001b[?25h  Created wheel for transformers: filename=transformers-4.37.0.dev0-py3-none-any.whl size=8340729 sha256=7f7a414ad317a55011bb8be2e2538424c4372f6f6ffc702047ee63acaa0100d6\n",
            "  Stored in directory: /tmp/pip-ephem-wheel-cache-56_0eg4b/wheels/c0/14/d6/6c9a5582d2ac191ec0a483be151a4495fe1eb2a6706ca49f1b\n",
            "Successfully built transformers\n",
            "Installing collected packages: tokenizers, transformers\n",
            "  Attempting uninstall: tokenizers\n",
            "    Found existing installation: tokenizers 0.13.3\n",
            "    Uninstalling tokenizers-0.13.3:\n",
            "      Successfully uninstalled tokenizers-0.13.3\n",
            "  Attempting uninstall: transformers\n",
            "    Found existing installation: transformers 4.31.0\n",
            "    Uninstalling transformers-4.31.0:\n",
            "      Successfully uninstalled transformers-4.31.0\n",
            "Successfully installed tokenizers-0.15.0 transformers-4.37.0.dev0\n",
            "\u001b[33mWARNING: Running pip as the 'root' user can result in broken permissions and conflicting behaviour with the system package manager. It is recommended to use a virtual environment instead: https://pip.pypa.io/warnings/venv\u001b[0m\u001b[33m\n",
            "\u001b[0m"
          ]
        }
      ],
      "source": [
        "!pip install git+https://github.com/huggingface/transformers trl accelerate torch bitsandbytes peft datasets"
      ]
    },
    {
      "cell_type": "code",
      "execution_count": null,
      "id": "69899add-d3c0-45fd-a5c9-c2dca4d82e2d",
      "metadata": {
        "id": "69899add-d3c0-45fd-a5c9-c2dca4d82e2d",
        "outputId": "b4fbe30e-2d2e-4c3e-b012-50eac69eb95d"
      },
      "outputs": [
        {
          "name": "stdout",
          "output_type": "stream",
          "text": [
            "[2024-01-17 19:23:46,390] [INFO] [real_accelerator.py:158:get_accelerator] Setting ds_accelerator to cuda (auto detect)\n"
          ]
        }
      ],
      "source": [
        "import torch\n",
        "from trl import SFTTrainer\n",
        "# from google.colab import drive\n",
        "from random import randrange\n",
        "from datasets import load_dataset\n",
        "from transformers import AutoModelForCausalLM, AutoTokenizer, TrainingArguments, BitsAndBytesConfig\n",
        "from peft import AutoPeftModelForCausalLM, LoraConfig, get_peft_model, prepare_model_for_kbit_training"
      ]
    },
    {
      "cell_type": "code",
      "execution_count": null,
      "id": "98f69f14-e9b1-4f30-94f9-b6fd2c2a0052",
      "metadata": {
        "id": "98f69f14-e9b1-4f30-94f9-b6fd2c2a0052"
      },
      "outputs": [],
      "source": [
        "import pandas as pd"
      ]
    },
    {
      "cell_type": "code",
      "execution_count": null,
      "id": "e939741e-3e2e-4f1c-986e-99d29aa6f8ab",
      "metadata": {
        "id": "e939741e-3e2e-4f1c-986e-99d29aa6f8ab"
      },
      "outputs": [],
      "source": [
        "from ray import train\n",
        "from ray.train.huggingface.transformers import (\n",
        "    prepare_trainer,\n",
        "    RayTrainReportCallback\n",
        ")"
      ]
    },
    {
      "cell_type": "markdown",
      "source": [
        "## Loading Dataset and Formatting"
      ],
      "metadata": {
        "id": "Gv6kTyalrgGz"
      },
      "id": "Gv6kTyalrgGz"
    },
    {
      "cell_type": "code",
      "execution_count": null,
      "id": "0a4a5fdf-80d6-40af-922b-d7e0a9ac5543",
      "metadata": {
        "id": "0a4a5fdf-80d6-40af-922b-d7e0a9ac5543"
      },
      "outputs": [],
      "source": [
        "# Loading the dataset\n",
        "dataset = load_dataset(\"databricks/databricks-dolly-15k\", split=\"train\")\n",
        "\n",
        "# Since I will only finetune on Question-Answer pairs without context, I will filter accordingly\n",
        "# Filter QA pairs without context\n",
        "dataset = dataset.filter(lambda x:x['context'] == '')\n",
        "\n",
        "# A prompting formatting function\n",
        "def create_prompt_instruction(sample):\n",
        "   return f\"\"\"### Instruction:\n",
        "   Use the input below to create an instruction, which could have been used to generate the input using an LLM.\n",
        "\n",
        "   ### Input\n",
        "   {sample['response']}\n",
        "\n",
        "   ### Response:\n",
        "   {sample['instruction']}\n",
        "   \"\"\"\n",
        ""
      ]
    },
    {
      "cell_type": "code",
      "execution_count": null,
      "id": "df841fec-4c33-4a8a-8ac3-c47eadf4730c",
      "metadata": {
        "id": "df841fec-4c33-4a8a-8ac3-c47eadf4730c",
        "outputId": "2f11b113-c02b-4940-de0d-b132907b2974"
      },
      "outputs": [
        {
          "data": {
            "text/plain": [
              "{'train': MaterializedDataset(\n",
              "    num_blocks=1,\n",
              "    num_rows=10544,\n",
              "    schema={\n",
              "       instruction: string,\n",
              "       context: string,\n",
              "       response: string,\n",
              "       category: string\n",
              "    }\n",
              " )}"
            ]
          },
          "execution_count": 13,
          "metadata": {},
          "output_type": "execute_result"
        }
      ],
      "source": [
        "import ray.data\n",
        "\n",
        "ray_datasets = {\n",
        "    \"train\": ray.data.from_huggingface(dataset)\n",
        "}\n",
        "\n",
        "# ray_datasets = {\n",
        "#     \"train\": ray.data.from_huggingface(dataset[\"train\"]),\n",
        "#     \"validation\": ray.data.from_huggingface(dataset[\"validation\"])\n",
        "# }\n",
        "\n",
        "ray_datasets"
      ]
    },
    {
      "cell_type": "code",
      "execution_count": null,
      "id": "6be42cb5-669d-4bcc-98e8-fd3f9574a6df",
      "metadata": {
        "id": "6be42cb5-669d-4bcc-98e8-fd3f9574a6df"
      },
      "outputs": [],
      "source": [
        "block_size = 512"
      ]
    },
    {
      "cell_type": "code",
      "execution_count": null,
      "id": "17f44fa3-25bf-4b1d-b7cf-126d5d679868",
      "metadata": {
        "id": "17f44fa3-25bf-4b1d-b7cf-126d5d679868",
        "outputId": "21a98325-5318-4aab-dcbc-866885a44366"
      },
      "outputs": [
        {
          "data": {
            "text/plain": [
              "{'train': RandomShuffle\n",
              " +- MapBatches(tokenize)\n",
              "    +- MapBatches(split_text)\n",
              "       +- Dataset(\n",
              "             num_blocks=1,\n",
              "             num_rows=10544,\n",
              "             schema={\n",
              "                instruction: string,\n",
              "                context: string,\n",
              "                response: string,\n",
              "                category: string\n",
              "             }\n",
              "          )}"
            ]
          },
          "execution_count": 15,
          "metadata": {},
          "output_type": "execute_result"
        }
      ],
      "source": [
        "from transformers import AutoTokenizer\n",
        "\n",
        "def split_text(batch: pd.DataFrame) -> pd.DataFrame:\n",
        "    text = list(batch[\"text\"])\n",
        "    flat_text = \"\".join(text)\n",
        "    split_text = [\n",
        "        x.strip()\n",
        "        for x in flat_text.split(\"\\n\")\n",
        "        if x.strip() and not x.strip()[-1] == \":\"\n",
        "    ]\n",
        "    return pd.DataFrame(split_text, columns=[\"text\"])\n",
        "\n",
        "\n",
        "def tokenize(batch: pd.DataFrame) -> dict:\n",
        "    tokenizer = AutoTokenizer.from_pretrained(model_name, use_fast=False)\n",
        "    tokenizer.pad_token = tokenizer.eos_token\n",
        "    ret = tokenizer(\n",
        "        list(batch[\"text\"]),\n",
        "        truncation=True,\n",
        "        max_length=block_size,\n",
        "        padding=\"max_length\",\n",
        "        return_tensors=\"np\",\n",
        "    )\n",
        "    ret[\"labels\"] = ret[\"input_ids\"].copy()\n",
        "    return dict(ret)\n",
        "\n",
        "processed_datasets = {\n",
        "    key: ds.map_batches(split_text, batch_format=\"pandas\").map_batches(tokenize, batch_format=\"pandas\").random_shuffle(seed=42)\n",
        "    for key, ds in ray_datasets.items()\n",
        "}\n",
        "processed_datasets"
      ]
    },
    {
      "cell_type": "code",
      "execution_count": null,
      "id": "4820c2e6-bfca-4b5e-80d7-058d1e1943e8",
      "metadata": {
        "id": "4820c2e6-bfca-4b5e-80d7-058d1e1943e8",
        "outputId": "0414c057-d6e0-4cd5-8daf-ac36049736b4"
      },
      "outputs": [
        {
          "name": "stdout",
          "output_type": "stream",
          "text": [
            "### Instruction: \n",
            "   Use the input below to create an instruction, which could have been used to generate the input using an LLM. \n",
            "\n",
            "   ### Input \n",
            "   Tope\n",
            "\n",
            "   ### Response:\n",
            "   Which is a species of fish? Tope or Rope\n",
            "   \n"
          ]
        }
      ],
      "source": [
        "# print(create_prompt_instruction(dataset[0]))"
      ]
    },
    {
      "cell_type": "code",
      "execution_count": null,
      "id": "e17c91b9-c3c2-4eb2-bf37-dc980779c337",
      "metadata": {
        "id": "e17c91b9-c3c2-4eb2-bf37-dc980779c337"
      },
      "outputs": [],
      "source": [
        "def train_func(config):\n",
        "    # Use the actual number of CPUs assigned by Ray\n",
        "    os.environ[\"OMP_NUM_THREADS\"] = str(\n",
        "        train.get_context().get_trial_resources().bundles[-1].get(\"CPU\", 1)\n",
        "    )\n",
        "    # Enable tf32 for better performance\n",
        "    torch.backends.cuda.matmul.allow_tf32 = True\n",
        "\n",
        "    batch_size = config.get(\"batch_size\", 4)\n",
        "    epochs = config.get(\"epochs\", 2)\n",
        "    warmup_steps = config.get(\"warmup_steps\", 0)\n",
        "    learning_rate = config.get(\"learning_rate\", 0.00002)\n",
        "    weight_decay = config.get(\"weight_decay\", 0.01)\n",
        "    steps_per_epoch = config.get(\"steps_per_epoch\")\n",
        "\n",
        "    deepspeed = {\n",
        "        \"fp16\": {\n",
        "            \"enabled\": \"auto\",\n",
        "            \"initial_scale_power\": 8,\n",
        "        },\n",
        "        \"bf16\": {\"enabled\": \"auto\"},\n",
        "        \"optimizer\": {\n",
        "            \"type\": \"AdamW\",\n",
        "            \"params\": {\n",
        "                \"lr\": \"auto\",\n",
        "                \"betas\": \"auto\",\n",
        "                \"eps\": \"auto\",\n",
        "            },\n",
        "        },\n",
        "        \"zero_optimization\": {\n",
        "            \"stage\": 3,\n",
        "            \"offload_optimizer\": {\n",
        "                \"device\": \"cpu\",\n",
        "                \"pin_memory\": True,\n",
        "            },\n",
        "            \"offload_param\": {\n",
        "                \"device\": \"cpu\",\n",
        "                \"pin_memory\": True,\n",
        "            },\n",
        "            \"overlap_comm\": True,\n",
        "            \"contiguous_gradients\": True,\n",
        "            \"reduce_bucket_size\": \"auto\",\n",
        "            \"stage3_prefetch_bucket_size\": \"auto\",\n",
        "            \"stage3_param_persistence_threshold\": \"auto\",\n",
        "            \"gather_16bit_weights_on_model_save\": True,\n",
        "            \"round_robin_gradients\": True,\n",
        "        },\n",
        "        \"gradient_accumulation_steps\": \"auto\",\n",
        "        \"gradient_clipping\": \"auto\",\n",
        "        \"steps_per_print\": 10,\n",
        "        \"train_batch_size\": \"auto\",\n",
        "        \"train_micro_batch_size_per_gpu\": \"auto\",\n",
        "        \"wall_clock_breakdown\": False,\n",
        "    }\n",
        "\n",
        "    # Specify the GPU device index\n",
        "    device_idx = 0\n",
        "\n",
        "    # Set the device\n",
        "    device = torch.device(f'cuda:{device_idx}')\n",
        "\n",
        "\n",
        "    print(\"Preparing training arguments\")\n",
        "    training_args = TrainingArguments(\n",
        "        \"output\",\n",
        "        logging_steps=1,\n",
        "        save_strategy=\"steps\",\n",
        "        save_steps=steps_per_epoch,\n",
        "        max_steps=steps_per_epoch * epochs,\n",
        "        learning_rate=learning_rate,\n",
        "        weight_decay=weight_decay,\n",
        "        warmup_steps=warmup_steps,\n",
        "        label_names=[\"input_ids\", \"attention_mask\"],\n",
        "        push_to_hub=False,\n",
        "        report_to=\"none\",\n",
        "        disable_tqdm=True,  # declutter the output a little\n",
        "        fp16=True,\n",
        "        gradient_checkpointing=True,\n",
        "        deepspeed=deepspeed,\n",
        "    )\n",
        "    disable_progress_bar()\n",
        "\n",
        "    tokenizer = AutoTokenizer.from_pretrained(model_name)\n",
        "    tokenizer.pad_token = tokenizer.eos_token\n",
        "\n",
        "    print(\"Loading model\")\n",
        "\n",
        "    model = GPTJForCausalLM.from_pretrained(model_name, use_cache=False)\n",
        "    model.resize_token_embeddings(len(tokenizer))\n",
        "\n",
        "    print(\"Model loaded\")\n",
        "\n",
        "    enable_progress_bar()\n",
        "\n",
        "    metric = evaluate.load(\"accuracy\")\n",
        "\n",
        "    train_ds = train.get_dataset_shard(\"train\")\n",
        "    eval_ds = train.get_dataset_shard(\"validation\")\n",
        "\n",
        "    train_ds_iterable = train_ds.iter_torch_batches(batch_size=batch_size)\n",
        "    eval_ds_iterable = eval_ds.iter_torch_batches(batch_size=batch_size)"
      ]
    },
    {
      "cell_type": "code",
      "execution_count": null,
      "id": "f970f96d-9106-4b8c-952c-cc880351cc86",
      "metadata": {
        "id": "f970f96d-9106-4b8c-952c-cc880351cc86"
      },
      "outputs": [],
      "source": [
        "storage_path=\"Path/to/storage/models\"     # TODO: Alternatively, set up NFS"
      ]
    },
    {
      "cell_type": "code",
      "execution_count": null,
      "id": "69ea7853-d7c1-4696-b838-a2dec51daeb0",
      "metadata": {
        "id": "69ea7853-d7c1-4696-b838-a2dec51daeb0"
      },
      "outputs": [],
      "source": [
        "from ray.train.torch import TorchTrainer\n",
        "from ray.train import RunConfig, ScalingConfig\n",
        "\n",
        "batch_size = 16\n",
        "train_ds_size = processed_datasets[\"train\"].count()\n",
        "steps_per_epoch = train_ds_size // (batch_size * num_workers)\n",
        "\n",
        "trainer = TorchTrainer(\n",
        "    train_loop_per_worker=train_func,\n",
        "    train_loop_config={\n",
        "        \"epochs\": 1,\n",
        "        \"batch_size\": batch_size,  # per device\n",
        "        \"steps_per_epoch\": steps_per_epoch\n",
        "    },\n",
        "    scaling_config=ScalingConfig(\n",
        "        num_workers=num_workers,\n",
        "        use_gpu=use_gpu,\n",
        "        resources_per_worker={\"GPU\": 1, \"CPU\": cpus_per_worker},\n",
        "    ),\n",
        "    datasets=processed_datasets,\n",
        "    run_config=RunConfig(storage_path=storage_path),\n",
        ")"
      ]
    },
    {
      "cell_type": "code",
      "execution_count": null,
      "id": "d93b8ec4-1eeb-4b18-9a76-4b43643988e2",
      "metadata": {
        "id": "d93b8ec4-1eeb-4b18-9a76-4b43643988e2"
      },
      "outputs": [],
      "source": []
    },
    {
      "cell_type": "markdown",
      "id": "52ede5f2-4278-478d-a7c8-a2abf5acff06",
      "metadata": {
        "id": "52ede5f2-4278-478d-a7c8-a2abf5acff06"
      },
      "source": [
        "## Evaluation"
      ]
    },
    {
      "cell_type": "code",
      "execution_count": null,
      "id": "e03cee69-6b04-4008-bba6-2ae231bfd37f",
      "metadata": {
        "id": "e03cee69-6b04-4008-bba6-2ae231bfd37f"
      },
      "outputs": [],
      "source": [
        "# Load the finetuned model\n",
        "finetuned_model = AutoPeftModelForCausalLM.from_pretrained(\n",
        "    \"mistral_instruct_qa\",\n",
        "    low_cpu_mem_usage=True,\n",
        "    torch_dtype=torch.bfloat16,\n",
        "  device_map=\"auto\"\n",
        ")\n",
        "\n",
        "# Load tokenizer\n",
        "tokenizer = AutoTokenizer.from_pretrained(\"mistral_instruct_qa\")"
      ]
    },
    {
      "cell_type": "code",
      "execution_count": null,
      "id": "b98998c9-1307-4259-bc23-4c05e202159f",
      "metadata": {
        "id": "b98998c9-1307-4259-bc23-4c05e202159f"
      },
      "outputs": [],
      "source": [
        "# Import saved dataset split from the drive (saved during fine-tuning)\n",
        "# Connect colab with my drive\n",
        "drive.mount('/content/drive')\n",
        "\n",
        "\n",
        "# Load dataset and prepare evaluation prompts\n",
        "dataset = load_from_disk('/path/to/your/saved/dataset/split')\n",
        "\n",
        "test_dataset = dataset['test']\n",
        "\n",
        "# dataset\n",
        "\"\"\"\n",
        "Dataset({\n",
        "    features: ['instruction', 'context', 'response', 'category'],\n",
        "    num_rows: 3164\n",
        "})\n",
        "\"\"\"\n",
        "\n",
        "\n",
        "# Prepare evaluation prompts\n",
        "prompts = [\n",
        "    f\"\"\"### Instruction:\n",
        "    Use the input below to create an instruction, which could have been used to generate the input using an LLM.\n",
        "\n",
        "    ### Input\n",
        "    {sample['response']}\n",
        "\n",
        "    ### Response:\n",
        "    \"\"\" for sample in test_dataset\n",
        "]\n",
        "\n",
        "# Get references / Ground Truth the model will be evaluated against\n",
        "references = [sample['instruction'] for sample in dataset]"
      ]
    },
    {
      "cell_type": "code",
      "execution_count": null,
      "id": "d7a7a9ba-5ba5-4b72-9b40-2ab4ad5c2934",
      "metadata": {
        "id": "d7a7a9ba-5ba5-4b72-9b40-2ab4ad5c2934"
      },
      "outputs": [],
      "source": [
        "import evaluate\n",
        "from vllm import LLM, SamplingParams\n",
        "rouge = evaluate.load('rouge')"
      ]
    },
    {
      "cell_type": "code",
      "execution_count": null,
      "id": "e9b771a0-7768-4db2-97fd-19e19089afbc",
      "metadata": {
        "id": "e9b771a0-7768-4db2-97fd-19e19089afbc"
      },
      "outputs": [],
      "source": [
        "# Sampling parameters\n",
        "sampling_params = SamplingParams(temperature=0.8, top_p=0.95)\n",
        "\n",
        "# My finetuned model is pushed to this hf repository path\n",
        "hf_finetuned_model_path = \"path/to/your/Finetuned-mistral-7b-instruct-model-v01\"\n",
        "\n",
        "# An LLM instance\n",
        "llm = LLM(model=hf_finetuned_model_path)\n",
        "\n",
        "# Generate responses\n",
        "outputs = llm.generate(prompts, sampling_params)\n",
        "\n",
        "# A list to save finetuned model responses\n",
        "finetuned_model_responses = []\n",
        "\n",
        "# loop over outputs to get each response\n",
        "for output in outputs:\n",
        "    prompt = output.prompt\n",
        "    generated_text = output.outputs[0].text\n",
        "    finetuned_model_responses.append(generated_text)"
      ]
    },
    {
      "cell_type": "code",
      "execution_count": null,
      "id": "e67e4e5d-b584-46ec-a6d3-5d66ee5f5465",
      "metadata": {
        "id": "e67e4e5d-b584-46ec-a6d3-5d66ee5f5465"
      },
      "outputs": [],
      "source": [
        "# Finetuned model evaluation\n",
        "finetuned_model_evaluation = rouge.compute(predictions=finetuned_model_responses, references=references)\n",
        "\n",
        "# Print 'rouge1', 'rouge2', and 'rougeL'\n",
        "print(\"Rouge-1 Evaluation:\")\n",
        "print(finetuned_model_evaluation[\"rouge1\"])\n",
        "print(\"--\"*20)\n",
        "print(\"Rouge-2 Evaluation:\")\n",
        "print(finetuned_model_evaluation[\"rouge2\"])\n",
        "print(\"--\"*20)\n",
        "print(\"Rouge-L Evaluation:\")\n",
        "print(finetuned_model_evaluation[\"rougeL\"])"
      ]
    },
    {
      "cell_type": "code",
      "execution_count": null,
      "id": "9f22f6a5-3ab9-459c-9b30-7221d8e1c92d",
      "metadata": {
        "id": "9f22f6a5-3ab9-459c-9b30-7221d8e1c92d"
      },
      "outputs": [],
      "source": []
    }
  ],
  "metadata": {
    "kernelspec": {
      "display_name": "Python 3 (ipykernel)",
      "language": "python",
      "name": "python3"
    },
    "language_info": {
      "codemirror_mode": {
        "name": "ipython",
        "version": 3
      },
      "file_extension": ".py",
      "mimetype": "text/x-python",
      "name": "python",
      "nbconvert_exporter": "python",
      "pygments_lexer": "ipython3",
      "version": "3.10.12"
    },
    "colab": {
      "provenance": []
    }
  },
  "nbformat": 4,
  "nbformat_minor": 5
}